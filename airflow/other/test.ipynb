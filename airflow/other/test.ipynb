{
 "cells": [
  {
   "cell_type": "code",
   "execution_count": null,
   "metadata": {},
   "outputs": [],
   "source": [
    "from finlab import data\n",
    "import finlab\n",
    "from airflow.models import Variable\n",
    "import os\n",
    "\n",
    "finlab.login(Variable.get('FINLAB_API_KEY'))\n",
    "db_path = os.path.join('/home/jovyan/work', 'finlab_data')\n",
    "data.set_storage(data.FileStorage(path=db_path))\n"
   ]
  },
  {
   "cell_type": "code",
   "execution_count": null,
   "metadata": {},
   "outputs": [],
   "source": [
    "from airflow.providers.apache.hive.hooks.hive import HiveServer2Hook\n",
    "hive_hook = HiveServer2Hook(hiveserver2_conn_id='hive_cli_default')"
   ]
  },
  {
   "cell_type": "code",
   "execution_count": null,
   "metadata": {},
   "outputs": [],
   "source": [
    "import pandas as pd\n",
    "\n",
    "# 讀取CSV文件的頭部來獲取欄位名稱\n",
    "data_sample = data.get('etl:adj_high')\n",
    "\n",
    "def infer_data_type(value):\n",
    "    if pd.isnull(value):\n",
    "        return 'DOUBLE'  # 對於NaN值，假設欄位類型為DOUBLE\n",
    "    try:\n",
    "        float(value)\n",
    "        return 'DOUBLE'\n",
    "    except ValueError:\n",
    "        return 'STRING'\n",
    "\n",
    "# 生成CREATE TABLE語句\n",
    "create_table_stmt = \"CREATE EXTERNAL TABLE IF NOT EXISTS default.etl_adj_high (\\n\"\n",
    "for column in data_sample.columns:\n",
    "    # 對於以數字開頭的列名，加上反引號\n",
    "    safe_column = f\"`{column}`\" if column[0].isdigit() else column\n",
    "    data_type = infer_data_type(data_sample[column][0])\n",
    "    create_table_stmt += f\"    {safe_column} {data_type},\\n\"\n",
    "create_table_stmt = create_table_stmt.rstrip(',\\n') + \"\\n) STORED AS PARQUET LOCATION 'hdfs://namenode:9000/user/hue/finlab/data/etl_adj_high/'\"\n",
    "\n",
    "hive_hook.run(sql=create_table_stmt)\n"
   ]
  },
  {
   "cell_type": "code",
   "execution_count": null,
   "metadata": {},
   "outputs": [],
   "source": []
  }
 ],
 "metadata": {
  "kernelspec": {
   "display_name": "Python 3 (ipykernel)",
   "language": "python",
   "name": "python3"
  },
  "language_info": {
   "codemirror_mode": {
    "name": "ipython",
    "version": 3
   },
   "file_extension": ".py",
   "mimetype": "text/x-python",
   "name": "python",
   "nbconvert_exporter": "python",
   "pygments_lexer": "ipython3",
   "version": "3.10.12"
  }
 },
 "nbformat": 4,
 "nbformat_minor": 2
}
